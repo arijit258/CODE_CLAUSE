{
  "nbformat": 4,
  "nbformat_minor": 0,
  "metadata": {
    "colab": {
      "provenance": []
    },
    "kernelspec": {
      "name": "python3",
      "display_name": "Python 3"
    },
    "language_info": {
      "name": "python"
    }
  },
  "cells": [
    {
      "cell_type": "markdown",
      "source": [
        "### Task-2 : Stock Market Prediction"
      ],
      "metadata": {
        "id": "5eFuQkoUr1Gt"
      }
    },
    {
      "cell_type": "markdown",
      "source": [
        "### Collecting and unzipping data"
      ],
      "metadata": {
        "id": "QBDkRPn8r9gL"
      }
    },
    {
      "cell_type": "code",
      "execution_count": 1,
      "metadata": {
        "id": "1d0kOVzKrwAM"
      },
      "outputs": [],
      "source": [
        "import zipfile\n",
        "data=zipfile.ZipFile('stock_market.zip')\n",
        "data.extractall()\n",
        "data.close()"
      ]
    },
    {
      "cell_type": "markdown",
      "source": [
        "### Importing dependencies"
      ],
      "metadata": {
        "id": "loxxTHAUsJMT"
      }
    },
    {
      "cell_type": "code",
      "source": [
        "import pandas as pd\n",
        "import warnings\n",
        "warnings.filterwarnings('ignore')\n",
        "import numpy as np\n",
        "%matplotlib inline\n",
        "import matplotlib. pyplot as plt\n",
        "import matplotlib\n",
        "from sklearn.preprocessing import MinMaxScaler\n",
        "from tensorflow.keras.layers import LSTM, Dense, Dropout\n",
        "from sklearn.model_selection import TimeSeriesSplit\n",
        "from sklearn.metrics import mean_squared_error, r2_score\n",
        "import matplotlib. dates as mandates\n",
        "from sklearn.preprocessing import MinMaxScaler\n",
        "from sklearn import linear_model\n",
        "from tensorflow.keras import Sequential\n",
        "from tensorflow.keras.layers import Dense\n",
        "import tensorflow.keras.backend as K\n",
        "from tensorflow.keras.callbacks import EarlyStopping\n",
        "from tensorflow.keras.optimizers import Adam\n",
        "from tensorflow.keras.models import load_model\n",
        "from tensorflow.keras.layers import LSTM\n",
        "from tensorflow.keras.utils import plot_model"
      ],
      "metadata": {
        "id": "w07Le0ZgsIPT"
      },
      "execution_count": 8,
      "outputs": []
    },
    {
      "cell_type": "markdown",
      "source": [
        "### Visualising Stock Market Data"
      ],
      "metadata": {
        "id": "yNJRoNFRt4rj"
      }
    },
    {
      "cell_type": "code",
      "source": [
        "df=pd.read_csv('/content/microsoft_stocks.csv',na_values=['null'],index_col='Date',parse_dates=True,infer_datetime_format=True)\n",
        "df.head()"
      ],
      "metadata": {
        "colab": {
          "base_uri": "https://localhost:8080/",
          "height": 237
        },
        "id": "_QHeU_xRs6Pk",
        "outputId": "9b360988-ad6f-43e2-ec93-97a352065b88"
      },
      "execution_count": 9,
      "outputs": [
        {
          "output_type": "execute_result",
          "data": {
            "text/plain": [
              "                 High        Low       Open      Close      Volume  Adj Close\n",
              "Date                                                                         \n",
              "2015-01-12  47.540001  46.360001  47.419998  46.599998  23651900.0  40.786396\n",
              "2015-01-13  47.910000  46.060001  46.970001  46.360001  35270600.0  40.576340\n",
              "2015-01-14  46.240002  45.619999  45.959999  45.959999  29719600.0  40.226257\n",
              "2015-01-15  46.380001  45.410000  46.220001  45.480000  32750800.0  39.806129\n",
              "2015-01-16  46.279999  45.169998  45.310001  46.240002  35695300.0  40.471313"
            ],
            "text/html": [
              "\n",
              "  <div id=\"df-80610660-b0bd-49a1-b5f8-920dc61458ad\" class=\"colab-df-container\">\n",
              "    <div>\n",
              "<style scoped>\n",
              "    .dataframe tbody tr th:only-of-type {\n",
              "        vertical-align: middle;\n",
              "    }\n",
              "\n",
              "    .dataframe tbody tr th {\n",
              "        vertical-align: top;\n",
              "    }\n",
              "\n",
              "    .dataframe thead th {\n",
              "        text-align: right;\n",
              "    }\n",
              "</style>\n",
              "<table border=\"1\" class=\"dataframe\">\n",
              "  <thead>\n",
              "    <tr style=\"text-align: right;\">\n",
              "      <th></th>\n",
              "      <th>High</th>\n",
              "      <th>Low</th>\n",
              "      <th>Open</th>\n",
              "      <th>Close</th>\n",
              "      <th>Volume</th>\n",
              "      <th>Adj Close</th>\n",
              "    </tr>\n",
              "    <tr>\n",
              "      <th>Date</th>\n",
              "      <th></th>\n",
              "      <th></th>\n",
              "      <th></th>\n",
              "      <th></th>\n",
              "      <th></th>\n",
              "      <th></th>\n",
              "    </tr>\n",
              "  </thead>\n",
              "  <tbody>\n",
              "    <tr>\n",
              "      <th>2015-01-12</th>\n",
              "      <td>47.540001</td>\n",
              "      <td>46.360001</td>\n",
              "      <td>47.419998</td>\n",
              "      <td>46.599998</td>\n",
              "      <td>23651900.0</td>\n",
              "      <td>40.786396</td>\n",
              "    </tr>\n",
              "    <tr>\n",
              "      <th>2015-01-13</th>\n",
              "      <td>47.910000</td>\n",
              "      <td>46.060001</td>\n",
              "      <td>46.970001</td>\n",
              "      <td>46.360001</td>\n",
              "      <td>35270600.0</td>\n",
              "      <td>40.576340</td>\n",
              "    </tr>\n",
              "    <tr>\n",
              "      <th>2015-01-14</th>\n",
              "      <td>46.240002</td>\n",
              "      <td>45.619999</td>\n",
              "      <td>45.959999</td>\n",
              "      <td>45.959999</td>\n",
              "      <td>29719600.0</td>\n",
              "      <td>40.226257</td>\n",
              "    </tr>\n",
              "    <tr>\n",
              "      <th>2015-01-15</th>\n",
              "      <td>46.380001</td>\n",
              "      <td>45.410000</td>\n",
              "      <td>46.220001</td>\n",
              "      <td>45.480000</td>\n",
              "      <td>32750800.0</td>\n",
              "      <td>39.806129</td>\n",
              "    </tr>\n",
              "    <tr>\n",
              "      <th>2015-01-16</th>\n",
              "      <td>46.279999</td>\n",
              "      <td>45.169998</td>\n",
              "      <td>45.310001</td>\n",
              "      <td>46.240002</td>\n",
              "      <td>35695300.0</td>\n",
              "      <td>40.471313</td>\n",
              "    </tr>\n",
              "  </tbody>\n",
              "</table>\n",
              "</div>\n",
              "    <div class=\"colab-df-buttons\">\n",
              "\n",
              "  <div class=\"colab-df-container\">\n",
              "    <button class=\"colab-df-convert\" onclick=\"convertToInteractive('df-80610660-b0bd-49a1-b5f8-920dc61458ad')\"\n",
              "            title=\"Convert this dataframe to an interactive table.\"\n",
              "            style=\"display:none;\">\n",
              "\n",
              "  <svg xmlns=\"http://www.w3.org/2000/svg\" height=\"24px\" viewBox=\"0 -960 960 960\">\n",
              "    <path d=\"M120-120v-720h720v720H120Zm60-500h600v-160H180v160Zm220 220h160v-160H400v160Zm0 220h160v-160H400v160ZM180-400h160v-160H180v160Zm440 0h160v-160H620v160ZM180-180h160v-160H180v160Zm440 0h160v-160H620v160Z\"/>\n",
              "  </svg>\n",
              "    </button>\n",
              "\n",
              "  <style>\n",
              "    .colab-df-container {\n",
              "      display:flex;\n",
              "      gap: 12px;\n",
              "    }\n",
              "\n",
              "    .colab-df-convert {\n",
              "      background-color: #E8F0FE;\n",
              "      border: none;\n",
              "      border-radius: 50%;\n",
              "      cursor: pointer;\n",
              "      display: none;\n",
              "      fill: #1967D2;\n",
              "      height: 32px;\n",
              "      padding: 0 0 0 0;\n",
              "      width: 32px;\n",
              "    }\n",
              "\n",
              "    .colab-df-convert:hover {\n",
              "      background-color: #E2EBFA;\n",
              "      box-shadow: 0px 1px 2px rgba(60, 64, 67, 0.3), 0px 1px 3px 1px rgba(60, 64, 67, 0.15);\n",
              "      fill: #174EA6;\n",
              "    }\n",
              "\n",
              "    .colab-df-buttons div {\n",
              "      margin-bottom: 4px;\n",
              "    }\n",
              "\n",
              "    [theme=dark] .colab-df-convert {\n",
              "      background-color: #3B4455;\n",
              "      fill: #D2E3FC;\n",
              "    }\n",
              "\n",
              "    [theme=dark] .colab-df-convert:hover {\n",
              "      background-color: #434B5C;\n",
              "      box-shadow: 0px 1px 3px 1px rgba(0, 0, 0, 0.15);\n",
              "      filter: drop-shadow(0px 1px 2px rgba(0, 0, 0, 0.3));\n",
              "      fill: #FFFFFF;\n",
              "    }\n",
              "  </style>\n",
              "\n",
              "    <script>\n",
              "      const buttonEl =\n",
              "        document.querySelector('#df-80610660-b0bd-49a1-b5f8-920dc61458ad button.colab-df-convert');\n",
              "      buttonEl.style.display =\n",
              "        google.colab.kernel.accessAllowed ? 'block' : 'none';\n",
              "\n",
              "      async function convertToInteractive(key) {\n",
              "        const element = document.querySelector('#df-80610660-b0bd-49a1-b5f8-920dc61458ad');\n",
              "        const dataTable =\n",
              "          await google.colab.kernel.invokeFunction('convertToInteractive',\n",
              "                                                    [key], {});\n",
              "        if (!dataTable) return;\n",
              "\n",
              "        const docLinkHtml = 'Like what you see? Visit the ' +\n",
              "          '<a target=\"_blank\" href=https://colab.research.google.com/notebooks/data_table.ipynb>data table notebook</a>'\n",
              "          + ' to learn more about interactive tables.';\n",
              "        element.innerHTML = '';\n",
              "        dataTable['output_type'] = 'display_data';\n",
              "        await google.colab.output.renderOutput(dataTable, element);\n",
              "        const docLink = document.createElement('div');\n",
              "        docLink.innerHTML = docLinkHtml;\n",
              "        element.appendChild(docLink);\n",
              "      }\n",
              "    </script>\n",
              "  </div>\n",
              "\n",
              "\n",
              "<div id=\"df-3ad89470-06a7-45c9-97b0-b91527ede306\">\n",
              "  <button class=\"colab-df-quickchart\" onclick=\"quickchart('df-3ad89470-06a7-45c9-97b0-b91527ede306')\"\n",
              "            title=\"Suggest charts.\"\n",
              "            style=\"display:none;\">\n",
              "\n",
              "<svg xmlns=\"http://www.w3.org/2000/svg\" height=\"24px\"viewBox=\"0 0 24 24\"\n",
              "     width=\"24px\">\n",
              "    <g>\n",
              "        <path d=\"M19 3H5c-1.1 0-2 .9-2 2v14c0 1.1.9 2 2 2h14c1.1 0 2-.9 2-2V5c0-1.1-.9-2-2-2zM9 17H7v-7h2v7zm4 0h-2V7h2v10zm4 0h-2v-4h2v4z\"/>\n",
              "    </g>\n",
              "</svg>\n",
              "  </button>\n",
              "\n",
              "<style>\n",
              "  .colab-df-quickchart {\n",
              "      --bg-color: #E8F0FE;\n",
              "      --fill-color: #1967D2;\n",
              "      --hover-bg-color: #E2EBFA;\n",
              "      --hover-fill-color: #174EA6;\n",
              "      --disabled-fill-color: #AAA;\n",
              "      --disabled-bg-color: #DDD;\n",
              "  }\n",
              "\n",
              "  [theme=dark] .colab-df-quickchart {\n",
              "      --bg-color: #3B4455;\n",
              "      --fill-color: #D2E3FC;\n",
              "      --hover-bg-color: #434B5C;\n",
              "      --hover-fill-color: #FFFFFF;\n",
              "      --disabled-bg-color: #3B4455;\n",
              "      --disabled-fill-color: #666;\n",
              "  }\n",
              "\n",
              "  .colab-df-quickchart {\n",
              "    background-color: var(--bg-color);\n",
              "    border: none;\n",
              "    border-radius: 50%;\n",
              "    cursor: pointer;\n",
              "    display: none;\n",
              "    fill: var(--fill-color);\n",
              "    height: 32px;\n",
              "    padding: 0;\n",
              "    width: 32px;\n",
              "  }\n",
              "\n",
              "  .colab-df-quickchart:hover {\n",
              "    background-color: var(--hover-bg-color);\n",
              "    box-shadow: 0 1px 2px rgba(60, 64, 67, 0.3), 0 1px 3px 1px rgba(60, 64, 67, 0.15);\n",
              "    fill: var(--button-hover-fill-color);\n",
              "  }\n",
              "\n",
              "  .colab-df-quickchart-complete:disabled,\n",
              "  .colab-df-quickchart-complete:disabled:hover {\n",
              "    background-color: var(--disabled-bg-color);\n",
              "    fill: var(--disabled-fill-color);\n",
              "    box-shadow: none;\n",
              "  }\n",
              "\n",
              "  .colab-df-spinner {\n",
              "    border: 2px solid var(--fill-color);\n",
              "    border-color: transparent;\n",
              "    border-bottom-color: var(--fill-color);\n",
              "    animation:\n",
              "      spin 1s steps(1) infinite;\n",
              "  }\n",
              "\n",
              "  @keyframes spin {\n",
              "    0% {\n",
              "      border-color: transparent;\n",
              "      border-bottom-color: var(--fill-color);\n",
              "      border-left-color: var(--fill-color);\n",
              "    }\n",
              "    20% {\n",
              "      border-color: transparent;\n",
              "      border-left-color: var(--fill-color);\n",
              "      border-top-color: var(--fill-color);\n",
              "    }\n",
              "    30% {\n",
              "      border-color: transparent;\n",
              "      border-left-color: var(--fill-color);\n",
              "      border-top-color: var(--fill-color);\n",
              "      border-right-color: var(--fill-color);\n",
              "    }\n",
              "    40% {\n",
              "      border-color: transparent;\n",
              "      border-right-color: var(--fill-color);\n",
              "      border-top-color: var(--fill-color);\n",
              "    }\n",
              "    60% {\n",
              "      border-color: transparent;\n",
              "      border-right-color: var(--fill-color);\n",
              "    }\n",
              "    80% {\n",
              "      border-color: transparent;\n",
              "      border-right-color: var(--fill-color);\n",
              "      border-bottom-color: var(--fill-color);\n",
              "    }\n",
              "    90% {\n",
              "      border-color: transparent;\n",
              "      border-bottom-color: var(--fill-color);\n",
              "    }\n",
              "  }\n",
              "</style>\n",
              "\n",
              "  <script>\n",
              "    async function quickchart(key) {\n",
              "      const quickchartButtonEl =\n",
              "        document.querySelector('#' + key + ' button');\n",
              "      quickchartButtonEl.disabled = true;  // To prevent multiple clicks.\n",
              "      quickchartButtonEl.classList.add('colab-df-spinner');\n",
              "      try {\n",
              "        const charts = await google.colab.kernel.invokeFunction(\n",
              "            'suggestCharts', [key], {});\n",
              "      } catch (error) {\n",
              "        console.error('Error during call to suggestCharts:', error);\n",
              "      }\n",
              "      quickchartButtonEl.classList.remove('colab-df-spinner');\n",
              "      quickchartButtonEl.classList.add('colab-df-quickchart-complete');\n",
              "    }\n",
              "    (() => {\n",
              "      let quickchartButtonEl =\n",
              "        document.querySelector('#df-3ad89470-06a7-45c9-97b0-b91527ede306 button');\n",
              "      quickchartButtonEl.style.display =\n",
              "        google.colab.kernel.accessAllowed ? 'block' : 'none';\n",
              "    })();\n",
              "  </script>\n",
              "</div>\n",
              "    </div>\n",
              "  </div>\n"
            ]
          },
          "metadata": {},
          "execution_count": 9
        }
      ]
    },
    {
      "cell_type": "markdown",
      "source": [
        "### Checking for Null Values"
      ],
      "metadata": {
        "id": "6JN5FR4huNr9"
      }
    },
    {
      "cell_type": "code",
      "source": [
        "print(\"Dataframe Shape: \", df. shape)\n",
        "print(\"Null Value Present: \", df.isnull().values.any())"
      ],
      "metadata": {
        "colab": {
          "base_uri": "https://localhost:8080/"
        },
        "id": "1-diy-EWuJBq",
        "outputId": "41e8dcac-5223-45a7-bc7e-b93b0de6db45"
      },
      "execution_count": 10,
      "outputs": [
        {
          "output_type": "stream",
          "name": "stdout",
          "text": [
            "Dataframe Shape:  (1925, 6)\n",
            "Null Value Present:  False\n"
          ]
        }
      ]
    },
    {
      "cell_type": "markdown",
      "source": [
        "### Plotting the True Adjusted Close Value"
      ],
      "metadata": {
        "id": "3bWD8aPDue0G"
      }
    },
    {
      "cell_type": "code",
      "source": [
        "df['Adj Close'].plot()"
      ],
      "metadata": {
        "colab": {
          "base_uri": "https://localhost:8080/",
          "height": 439
        },
        "id": "QCuxgmSiuXZb",
        "outputId": "1c8f7e26-1a46-4f52-8d2a-de77ba9d2d24"
      },
      "execution_count": 11,
      "outputs": [
        {
          "output_type": "execute_result",
          "data": {
            "text/plain": [
              "<Axes: xlabel='Date'>"
            ]
          },
          "metadata": {},
          "execution_count": 11
        },
        {
          "output_type": "display_data",
          "data": {
            "text/plain": [
              "<Figure size 640x480 with 1 Axes>"
            ],
            "image/png": "[encoded data removed]"
          },
          "metadata": {}
        }
      ]
    },
    {
      "cell_type": "markdown",
      "source": [
        "### Setting the Target Variable and Selecting the Features"
      ],
      "metadata": {
        "id": "IcnGZPtSuqTb"
      }
    },
    {
      "cell_type": "code",
      "source": [
        "output_var = pd.DataFrame(df['Adj Close'])\n",
        "#Selecting the Features\n",
        "features = ['Open', 'High', 'Low', 'Volume']"
      ],
      "metadata": {
        "id": "rb8gCMyCukTS"
      },
      "execution_count": 12,
      "outputs": []
    },
    {
      "cell_type": "markdown",
      "source": [
        "### Scaling the data"
      ],
      "metadata": {
        "id": "_K79IrULu4Cy"
      }
    },
    {
      "cell_type": "code",
      "source": [
        "scaler = MinMaxScaler()\n",
        "feature_transform = scaler.fit_transform(df[features])\n",
        "feature_transform= pd.DataFrame(columns=features, data=feature_transform, index=df.index)\n",
        "feature_transform.head()"
      ],
      "metadata": {
        "colab": {
          "base_uri": "https://localhost:8080/",
          "height": 237
        },
        "id": "Q40xfIS9u12p",
        "outputId": "51091e70-ead2-4a40-9d0e-58694058cbf9"
      },
      "execution_count": 13,
      "outputs": [
        {
          "output_type": "execute_result",
          "data": {
            "text/plain": [
              "                Open      High       Low    Volume\n",
              "Date                                              \n",
              "2015-01-12  0.023268  0.022011  0.021952  0.100324\n",
              "2015-01-13  0.021789  0.023209  0.020960  0.172161\n",
              "2015-01-14  0.018470  0.017803  0.019505  0.137840\n",
              "2015-01-15  0.019324  0.018257  0.018811  0.156581\n",
              "2015-01-16  0.016334  0.017933  0.018018  0.174787"
            ],
            "text/html": [
              "\n",
              "  <div id=\"df-a203b001-f8bc-428b-98cf-dea0724c6965\" class=\"colab-df-container\">\n",
              "    <div>\n",
              "<style scoped>\n",
              "    .dataframe tbody tr th:only-of-type {\n",
              "        vertical-align: middle;\n",
              "    }\n",
              "\n",
              "    .dataframe tbody tr th {\n",
              "        vertical-align: top;\n",
              "    }\n",
              "\n",
              "    .dataframe thead th {\n",
              "        text-align: right;\n",
              "    }\n",
              "</style>\n",
              "<table border=\"1\" class=\"dataframe\">\n",
              "  <thead>\n",
              "    <tr style=\"text-align: right;\">\n",
              "      <th></th>\n",
              "      <th>Open</th>\n",
              "      <th>High</th>\n",
              "      <th>Low</th>\n",
              "      <th>Volume</th>\n",
              "    </tr>\n",
              "    <tr>\n",
              "      <th>Date</th>\n",
              "      <th></th>\n",
              "      <th></th>\n",
              "      <th></th>\n",
              "      <th></th>\n",
              "    </tr>\n",
              "  </thead>\n",
              "  <tbody>\n",
              "    <tr>\n",
              "      <th>2015-01-12</th>\n",
              "      <td>0.023268</td>\n",
              "      <td>0.022011</td>\n",
              "      <td>0.021952</td>\n",
              "      <td>0.100324</td>\n",
              "    </tr>\n",
              "    <tr>\n",
              "      <th>2015-01-13</th>\n",
              "      <td>0.021789</td>\n",
              "      <td>0.023209</td>\n",
              "      <td>0.020960</td>\n",
              "      <td>0.172161</td>\n",
              "    </tr>\n",
              "    <tr>\n",
              "      <th>2015-01-14</th>\n",
              "      <td>0.018470</td>\n",
              "      <td>0.017803</td>\n",
              "      <td>0.019505</td>\n",
              "      <td>0.137840</td>\n",
              "    </tr>\n",
              "    <tr>\n",
              "      <th>2015-01-15</th>\n",
              "      <td>0.019324</td>\n",
              "      <td>0.018257</td>\n",
              "      <td>0.018811</td>\n",
              "      <td>0.156581</td>\n",
              "    </tr>\n",
              "    <tr>\n",
              "      <th>2015-01-16</th>\n",
              "      <td>0.016334</td>\n",
              "      <td>0.017933</td>\n",
              "      <td>0.018018</td>\n",
              "      <td>0.174787</td>\n",
              "    </tr>\n",
              "  </tbody>\n",
              "</table>\n",
              "</div>\n",
              "    <div class=\"colab-df-buttons\">\n",
              "\n",
              "  <div class=\"colab-df-container\">\n",
              "    <button class=\"colab-df-convert\" onclick=\"convertToInteractive('df-a203b001-f8bc-428b-98cf-dea0724c6965')\"\n",
              "            title=\"Convert this dataframe to an interactive table.\"\n",
              "            style=\"display:none;\">\n",
              "\n",
              "  <svg xmlns=\"http://www.w3.org/2000/svg\" height=\"24px\" viewBox=\"0 -960 960 960\">\n",
              "    <path d=\"M120-120v-720h720v720H120Zm60-500h600v-160H180v160Zm220 220h160v-160H400v160Zm0 220h160v-160H400v160ZM180-400h160v-160H180v160Zm440 0h160v-160H620v160ZM180-180h160v-160H180v160Zm440 0h160v-160H620v160Z\"/>\n",
              "  </svg>\n",
              "    </button>\n",
              "\n",
              "  <style>\n",
              "    .colab-df-container {\n",
              "      display:flex;\n",
              "      gap: 12px;\n",
              "    }\n",
              "\n",
              "    .colab-df-convert {\n",
              "      background-color: #E8F0FE;\n",
              "      border: none;\n",
              "      border-radius: 50%;\n",
              "      cursor: pointer;\n",
              "      display: none;\n",
              "      fill: #1967D2;\n",
              "      height: 32px;\n",
              "      padding: 0 0 0 0;\n",
              "      width: 32px;\n",
              "    }\n",
              "\n",
              "    .colab-df-convert:hover {\n",
              "      background-color: #E2EBFA;\n",
              "      box-shadow: 0px 1px 2px rgba(60, 64, 67, 0.3), 0px 1px 3px 1px rgba(60, 64, 67, 0.15);\n",
              "      fill: #174EA6;\n",
              "    }\n",
              "\n",
              "    .colab-df-buttons div {\n",
              "      margin-bottom: 4px;\n",
              "    }\n",
              "\n",
              "    [theme=dark] .colab-df-convert {\n",
              "      background-color: #3B4455;\n",
              "      fill: #D2E3FC;\n",
              "    }\n",
              "\n",
              "    [theme=dark] .colab-df-convert:hover {\n",
              "      background-color: #434B5C;\n",
              "      box-shadow: 0px 1px 3px 1px rgba(0, 0, 0, 0.15);\n",
              "      filter: drop-shadow(0px 1px 2px rgba(0, 0, 0, 0.3));\n",
              "      fill: #FFFFFF;\n",
              "    }\n",
              "  </style>\n",
              "\n",
              "    <script>\n",
              "      const buttonEl =\n",
              "        document.querySelector('#df-a203b001-f8bc-428b-98cf-dea0724c6965 button.colab-df-convert');\n",
              "      buttonEl.style.display =\n",
              "        google.colab.kernel.accessAllowed ? 'block' : 'none';\n",
              "\n",
              "      async function convertToInteractive(key) {\n",
              "        const element = document.querySelector('#df-a203b001-f8bc-428b-98cf-dea0724c6965');\n",
              "        const dataTable =\n",
              "          await google.colab.kernel.invokeFunction('convertToInteractive',\n",
              "                                                    [key], {});\n",
              "        if (!dataTable) return;\n",
              "\n",
              "        const docLinkHtml = 'Like what you see? Visit the ' +\n",
              "          '<a target=\"_blank\" href=https://colab.research.google.com/notebooks/data_table.ipynb>data table notebook</a>'\n",
              "          + ' to learn more about interactive tables.';\n",
              "        element.innerHTML = '';\n",
              "        dataTable['output_type'] = 'display_data';\n",
              "        await google.colab.output.renderOutput(dataTable, element);\n",
              "        const docLink = document.createElement('div');\n",
              "        docLink.innerHTML = docLinkHtml;\n",
              "        element.appendChild(docLink);\n",
              "      }\n",
              "    </script>\n",
              "  </div>\n",
              "\n",
              "\n",
              "<div id=\"df-f8925b04-e05f-4dc6-a2f6-5546761122ae\">\n",
              "  <button class=\"colab-df-quickchart\" onclick=\"quickchart('df-f8925b04-e05f-4dc6-a2f6-5546761122ae')\"\n",
              "            title=\"Suggest charts.\"\n",
              "            style=\"display:none;\">\n",
              "\n",
              "<svg xmlns=\"http://www.w3.org/2000/svg\" height=\"24px\"viewBox=\"0 0 24 24\"\n",
              "     width=\"24px\">\n",
              "    <g>\n",
              "        <path d=\"M19 3H5c-1.1 0-2 .9-2 2v14c0 1.1.9 2 2 2h14c1.1 0 2-.9 2-2V5c0-1.1-.9-2-2-2zM9 17H7v-7h2v7zm4 0h-2V7h2v10zm4 0h-2v-4h2v4z\"/>\n",
              "    </g>\n",
              "</svg>\n",
              "  </button>\n",
              "\n",
              "<style>\n",
              "  .colab-df-quickchart {\n",
              "      --bg-color: #E8F0FE;\n",
              "      --fill-color: #1967D2;\n",
              "      --hover-bg-color: #E2EBFA;\n",
              "      --hover-fill-color: #174EA6;\n",
              "      --disabled-fill-color: #AAA;\n",
              "      --disabled-bg-color: #DDD;\n",
              "  }\n",
              "\n",
              "  [theme=dark] .colab-df-quickchart {\n",
              "      --bg-color: #3B4455;\n",
              "      --fill-color: #D2E3FC;\n",
              "      --hover-bg-color: #434B5C;\n",
              "      --hover-fill-color: #FFFFFF;\n",
              "      --disabled-bg-color: #3B4455;\n",
              "      --disabled-fill-color: #666;\n",
              "  }\n",
              "\n",
              "  .colab-df-quickchart {\n",
              "    background-color: var(--bg-color);\n",
              "    border: none;\n",
              "    border-radius: 50%;\n",
              "    cursor: pointer;\n",
              "    display: none;\n",
              "    fill: var(--fill-color);\n",
              "    height: 32px;\n",
              "    padding: 0;\n",
              "    width: 32px;\n",
              "  }\n",
              "\n",
              "  .colab-df-quickchart:hover {\n",
              "    background-color: var(--hover-bg-color);\n",
              "    box-shadow: 0 1px 2px rgba(60, 64, 67, 0.3), 0 1px 3px 1px rgba(60, 64, 67, 0.15);\n",
              "    fill: var(--button-hover-fill-color);\n",
              "  }\n",
              "\n",
              "  .colab-df-quickchart-complete:disabled,\n",
              "  .colab-df-quickchart-complete:disabled:hover {\n",
              "    background-color: var(--disabled-bg-color);\n",
              "    fill: var(--disabled-fill-color);\n",
              "    box-shadow: none;\n",
              "  }\n",
              "\n",
              "  .colab-df-spinner {\n",
              "    border: 2px solid var(--fill-color);\n",
              "    border-color: transparent;\n",
              "    border-bottom-color: var(--fill-color);\n",
              "    animation:\n",
              "      spin 1s steps(1) infinite;\n",
              "  }\n",
              "\n",
              "  @keyframes spin {\n",
              "    0% {\n",
              "      border-color: transparent;\n",
              "      border-bottom-color: var(--fill-color);\n",
              "      border-left-color: var(--fill-color);\n",
              "    }\n",
              "    20% {\n",
              "      border-color: transparent;\n",
              "      border-left-color: var(--fill-color);\n",
              "      border-top-color: var(--fill-color);\n",
              "    }\n",
              "    30% {\n",
              "      border-color: transparent;\n",
              "      border-left-color: var(--fill-color);\n",
              "      border-top-color: var(--fill-color);\n",
              "      border-right-color: var(--fill-color);\n",
              "    }\n",
              "    40% {\n",
              "      border-color: transparent;\n",
              "      border-right-color: var(--fill-color);\n",
              "      border-top-color: var(--fill-color);\n",
              "    }\n",
              "    60% {\n",
              "      border-color: transparent;\n",
              "      border-right-color: var(--fill-color);\n",
              "    }\n",
              "    80% {\n",
              "      border-color: transparent;\n",
              "      border-right-color: var(--fill-color);\n",
              "      border-bottom-color: var(--fill-color);\n",
              "    }\n",
              "    90% {\n",
              "      border-color: transparent;\n",
              "      border-bottom-color: var(--fill-color);\n",
              "    }\n",
              "  }\n",
              "</style>\n",
              "\n",
              "  <script>\n",
              "    async function quickchart(key) {\n",
              "      const quickchartButtonEl =\n",
              "        document.querySelector('#' + key + ' button');\n",
              "      quickchartButtonEl.disabled = true;  // To prevent multiple clicks.\n",
              "      quickchartButtonEl.classList.add('colab-df-spinner');\n",
              "      try {\n",
              "        const charts = await google.colab.kernel.invokeFunction(\n",
              "            'suggestCharts', [key], {});\n",
              "      } catch (error) {\n",
              "        console.error('Error during call to suggestCharts:', error);\n",
              "      }\n",
              "      quickchartButtonEl.classList.remove('colab-df-spinner');\n",
              "      quickchartButtonEl.classList.add('colab-df-quickchart-complete');\n",
              "    }\n",
              "    (() => {\n",
              "      let quickchartButtonEl =\n",
              "        document.querySelector('#df-f8925b04-e05f-4dc6-a2f6-5546761122ae button');\n",
              "      quickchartButtonEl.style.display =\n",
              "        google.colab.kernel.accessAllowed ? 'block' : 'none';\n",
              "    })();\n",
              "  </script>\n",
              "</div>\n",
              "    </div>\n",
              "  </div>\n"
            ]
          },
          "metadata": {},
          "execution_count": 13
        }
      ]
    },
    {
      "cell_type": "markdown",
      "source": [
        "### Creating a Training Set and a Test Set for Stock Market Prediction"
      ],
      "metadata": {
        "id": "vEkwsAdgvBxQ"
      }
    },
    {
      "cell_type": "code",
      "source": [
        "timesplit= TimeSeriesSplit(n_splits=10)\n",
        "for train_index, test_index in timesplit.split(feature_transform):\n",
        "        X_train, X_test = feature_transform[:len(train_index)], feature_transform[len(train_index): (len(train_index)+len(test_index))]\n",
        "        y_train, y_test = output_var[:len(train_index)].values.ravel(), output_var[len(train_index): (len(train_index)+len(test_index))].values.ravel()"
      ],
      "metadata": {
        "id": "LolcFD6Wu8n1"
      },
      "execution_count": 14,
      "outputs": []
    },
    {
      "cell_type": "markdown",
      "source": [
        "### Data Processing For LSTM"
      ],
      "metadata": {
        "id": "ma4xeJShvHhm"
      }
    },
    {
      "cell_type": "code",
      "source": [
        "x =np.array(X_train)\n",
        "y =np.array(X_test)\n",
        "X_train = x.reshape(X_train.shape[0], 1, X_train.shape[1])\n",
        "X_test = y.reshape(X_test.shape[0], 1, X_test.shape[1])"
      ],
      "metadata": {
        "id": "exUGuj3svExF"
      },
      "execution_count": 15,
      "outputs": []
    },
    {
      "cell_type": "markdown",
      "source": [
        "### Building the LSTM Model for Stock Market Prediction"
      ],
      "metadata": {
        "id": "fnNnu23BvTyy"
      }
    },
    {
      "cell_type": "code",
      "source": [
        "lstm = Sequential()\n",
        "lstm.add(LSTM(32, input_shape=(1, x.shape[1]), activation='relu', return_sequences=False))\n",
        "lstm.add(Dense(1))\n",
        "lstm.compile(loss='mean_squared_error', optimizer='adam')\n",
        "plot_model(lstm, show_shapes=True, show_layer_names=True)"
      ],
      "metadata": {
        "colab": {
          "base_uri": "https://localhost:8080/",
          "height": 312
        },
        "id": "7rrKVv6kvPYq",
        "outputId": "25ff14e5-453a-41e2-91c4-54c8fa6e8d75"
      },
      "execution_count": 16,
      "outputs": [
        {
          "output_type": "execute_result",
          "data": {
            "image/png": "[encoded data removed]",
            "text/plain": [
              "<IPython.core.display.Image object>"
            ]
          },
          "metadata": {},
          "execution_count": 16
        }
      ]
    },
    {
      "cell_type": "markdown",
      "source": [
        "### Training the Stock Market Prediction Model"
      ],
      "metadata": {
        "id": "STzlQMW7vk-i"
      }
    },
    {
      "cell_type": "code",
      "source": [
        "history=lstm.fit(X_train, y_train, epochs=100, batch_size=8, verbose=1, shuffle=False)"
      ],
      "metadata": {
        "colab": {
          "base_uri": "https://localhost:8080/"
        },
        "id": "CcSsLrXUvhi6",
        "outputId": "c5c941af-a0ff-4d4e-cdf6-739b53ee6cf9"
      },
      "execution_count": 17,
      "outputs": [
        {
          "output_type": "stream",
          "name": "stdout",
          "text": [
            "Epoch 1/100\n",
            "219/219 [==============================] - 1s 2ms/step - loss: 20006.4141\n",
            "Epoch 2/100\n",
            "219/219 [==============================] - 1s 4ms/step - loss: 18678.2070\n",
            "Epoch 3/100\n",
            "219/219 [==============================] - 1s 4ms/step - loss: 16664.0098\n",
            "Epoch 4/100\n",
            "219/219 [==============================] - 0s 2ms/step - loss: 14068.5547\n",
            "Epoch 5/100\n",
            "219/219 [==============================] - 0s 2ms/step - loss: 11231.4238\n",
            "Epoch 6/100\n",
            "219/219 [==============================] - 0s 2ms/step - loss: 8492.5078\n",
            "Epoch 7/100\n",
            "219/219 [==============================] - 0s 2ms/step - loss: 6105.1216\n",
            "Epoch 8/100\n",
            "219/219 [==============================] - 0s 2ms/step - loss: 4208.6909\n",
            "Epoch 9/100\n",
            "219/219 [==============================] - 0s 2ms/step - loss: 2832.2778\n",
            "Epoch 10/100\n",
            "219/219 [==============================] - 0s 2ms/step - loss: 1917.7426\n",
            "Epoch 11/100\n",
            "219/219 [==============================] - 0s 2ms/step - loss: 1355.9629\n",
            "Epoch 12/100\n",
            "219/219 [==============================] - 0s 2ms/step - loss: 1023.8707\n",
            "Epoch 13/100\n",
            "219/219 [==============================] - 0s 1ms/step - loss: 815.2678\n",
            "Epoch 14/100\n",
            "219/219 [==============================] - 0s 2ms/step - loss: 660.4861\n",
            "Epoch 15/100\n",
            "219/219 [==============================] - 0s 2ms/step - loss: 527.0406\n",
            "Epoch 16/100\n",
            "219/219 [==============================] - 0s 2ms/step - loss: 405.5695\n",
            "Epoch 17/100\n",
            "219/219 [==============================] - 0s 2ms/step - loss: 298.7003\n",
            "Epoch 18/100\n",
            "219/219 [==============================] - 0s 2ms/step - loss: 210.8599\n",
            "Epoch 19/100\n",
            "219/219 [==============================] - 0s 1ms/step - loss: 143.4892\n",
            "Epoch 20/100\n",
            "219/219 [==============================] - 0s 1ms/step - loss: 95.6568\n",
            "Epoch 21/100\n",
            "219/219 [==============================] - 0s 2ms/step - loss: 64.4580\n",
            "Epoch 22/100\n",
            "219/219 [==============================] - 0s 2ms/step - loss: 45.5279\n",
            "Epoch 23/100\n",
            "219/219 [==============================] - 0s 2ms/step - loss: 34.6416\n",
            "Epoch 24/100\n",
            "219/219 [==============================] - 0s 2ms/step - loss: 28.4933\n",
            "Epoch 25/100\n",
            "219/219 [==============================] - 0s 1ms/step - loss: 24.8781\n",
            "Epoch 26/100\n",
            "219/219 [==============================] - 0s 2ms/step - loss: 22.3369\n",
            "Epoch 27/100\n",
            "219/219 [==============================] - 0s 2ms/step - loss: 20.3426\n",
            "Epoch 28/100\n",
            "219/219 [==============================] - 0s 2ms/step - loss: 18.5502\n",
            "Epoch 29/100\n",
            "219/219 [==============================] - 0s 2ms/step - loss: 16.8575\n",
            "Epoch 30/100\n",
            "219/219 [==============================] - 0s 2ms/step - loss: 15.2375\n",
            "Epoch 31/100\n",
            "219/219 [==============================] - 0s 1ms/step - loss: 13.6815\n",
            "Epoch 32/100\n",
            "219/219 [==============================] - 0s 2ms/step - loss: 12.2032\n",
            "Epoch 33/100\n",
            "219/219 [==============================] - 0s 2ms/step - loss: 10.8242\n",
            "Epoch 34/100\n",
            "219/219 [==============================] - 0s 2ms/step - loss: 9.5625\n",
            "Epoch 35/100\n",
            "219/219 [==============================] - 0s 2ms/step - loss: 8.4254\n",
            "Epoch 36/100\n",
            "219/219 [==============================] - 0s 2ms/step - loss: 7.4211\n",
            "Epoch 37/100\n",
            "219/219 [==============================] - 0s 2ms/step - loss: 6.5507\n",
            "Epoch 38/100\n",
            "219/219 [==============================] - 0s 2ms/step - loss: 5.8083\n",
            "Epoch 39/100\n",
            "219/219 [==============================] - 0s 2ms/step - loss: 5.1885\n",
            "Epoch 40/100\n",
            "219/219 [==============================] - 0s 2ms/step - loss: 4.6838\n",
            "Epoch 41/100\n",
            "219/219 [==============================] - 0s 2ms/step - loss: 4.2841\n",
            "Epoch 42/100\n",
            "219/219 [==============================] - 0s 2ms/step - loss: 3.9768\n",
            "Epoch 43/100\n",
            "219/219 [==============================] - 0s 2ms/step - loss: 3.7485\n",
            "Epoch 44/100\n",
            "219/219 [==============================] - 0s 2ms/step - loss: 3.5846\n",
            "Epoch 45/100\n",
            "219/219 [==============================] - 0s 2ms/step - loss: 3.4736\n",
            "Epoch 46/100\n",
            "219/219 [==============================] - 0s 2ms/step - loss: 3.4006\n",
            "Epoch 47/100\n",
            "219/219 [==============================] - 0s 2ms/step - loss: 3.3563\n",
            "Epoch 48/100\n",
            "219/219 [==============================] - 0s 2ms/step - loss: 3.3305\n",
            "Epoch 49/100\n",
            "219/219 [==============================] - 0s 1ms/step - loss: 3.3149\n",
            "Epoch 50/100\n",
            "219/219 [==============================] - 0s 2ms/step - loss: 3.3032\n",
            "Epoch 51/100\n",
            "219/219 [==============================] - 0s 2ms/step - loss: 3.2922\n",
            "Epoch 52/100\n",
            "219/219 [==============================] - 0s 2ms/step - loss: 3.2773\n",
            "Epoch 53/100\n",
            "219/219 [==============================] - 0s 2ms/step - loss: 3.2588\n",
            "Epoch 54/100\n",
            "219/219 [==============================] - 0s 2ms/step - loss: 3.2367\n",
            "Epoch 55/100\n",
            "219/219 [==============================] - 0s 2ms/step - loss: 3.2104\n",
            "Epoch 56/100\n",
            "219/219 [==============================] - 0s 2ms/step - loss: 3.1826\n",
            "Epoch 57/100\n",
            "219/219 [==============================] - 0s 2ms/step - loss: 3.1498\n",
            "Epoch 58/100\n",
            "219/219 [==============================] - 0s 2ms/step - loss: 3.1171\n",
            "Epoch 59/100\n",
            "219/219 [==============================] - 0s 2ms/step - loss: 3.0854\n",
            "Epoch 60/100\n",
            "219/219 [==============================] - 0s 2ms/step - loss: 3.0555\n",
            "Epoch 61/100\n",
            "219/219 [==============================] - 0s 1ms/step - loss: 3.0267\n",
            "Epoch 62/100\n",
            "219/219 [==============================] - 0s 2ms/step - loss: 2.9998\n",
            "Epoch 63/100\n",
            "219/219 [==============================] - 0s 2ms/step - loss: 2.9753\n",
            "Epoch 64/100\n",
            "219/219 [==============================] - 0s 1ms/step - loss: 2.9525\n",
            "Epoch 65/100\n",
            "219/219 [==============================] - 0s 2ms/step - loss: 2.9312\n",
            "Epoch 66/100\n",
            "219/219 [==============================] - 0s 2ms/step - loss: 2.9108\n",
            "Epoch 67/100\n",
            "219/219 [==============================] - 0s 2ms/step - loss: 2.8912\n",
            "Epoch 68/100\n",
            "219/219 [==============================] - 0s 2ms/step - loss: 2.8721\n",
            "Epoch 69/100\n",
            "219/219 [==============================] - 1s 2ms/step - loss: 2.8533\n",
            "Epoch 70/100\n",
            "219/219 [==============================] - 0s 2ms/step - loss: 2.8349\n",
            "Epoch 71/100\n",
            "219/219 [==============================] - 0s 2ms/step - loss: 2.8166\n",
            "Epoch 72/100\n",
            "219/219 [==============================] - 0s 2ms/step - loss: 2.7986\n",
            "Epoch 73/100\n",
            "219/219 [==============================] - 0s 2ms/step - loss: 2.7809\n",
            "Epoch 74/100\n",
            "219/219 [==============================] - 0s 1ms/step - loss: 2.7634\n",
            "Epoch 75/100\n",
            "219/219 [==============================] - 0s 2ms/step - loss: 2.7464\n",
            "Epoch 76/100\n",
            "219/219 [==============================] - 0s 2ms/step - loss: 2.7297\n",
            "Epoch 77/100\n",
            "219/219 [==============================] - 0s 2ms/step - loss: 2.7134\n",
            "Epoch 78/100\n",
            "219/219 [==============================] - 0s 2ms/step - loss: 2.6976\n",
            "Epoch 79/100\n",
            "219/219 [==============================] - 0s 2ms/step - loss: 2.6822\n",
            "Epoch 80/100\n",
            "219/219 [==============================] - 0s 2ms/step - loss: 2.6673\n",
            "Epoch 81/100\n",
            "219/219 [==============================] - 0s 2ms/step - loss: 2.6528\n",
            "Epoch 82/100\n",
            "219/219 [==============================] - 0s 1ms/step - loss: 2.6389\n",
            "Epoch 83/100\n",
            "219/219 [==============================] - 0s 2ms/step - loss: 2.6253\n",
            "Epoch 84/100\n",
            "219/219 [==============================] - 0s 2ms/step - loss: 2.6123\n",
            "Epoch 85/100\n",
            "219/219 [==============================] - 0s 2ms/step - loss: 2.5996\n",
            "Epoch 86/100\n",
            "219/219 [==============================] - 0s 2ms/step - loss: 2.5874\n",
            "Epoch 87/100\n",
            "219/219 [==============================] - 0s 2ms/step - loss: 2.5755\n",
            "Epoch 88/100\n",
            "219/219 [==============================] - 0s 2ms/step - loss: 2.5641\n",
            "Epoch 89/100\n",
            "219/219 [==============================] - 0s 2ms/step - loss: 2.5531\n",
            "Epoch 90/100\n",
            "219/219 [==============================] - 0s 2ms/step - loss: 2.5424\n",
            "Epoch 91/100\n",
            "219/219 [==============================] - 0s 2ms/step - loss: 2.5321\n",
            "Epoch 92/100\n",
            "219/219 [==============================] - 0s 2ms/step - loss: 2.5220\n",
            "Epoch 93/100\n",
            "219/219 [==============================] - 0s 2ms/step - loss: 2.5122\n",
            "Epoch 94/100\n",
            "219/219 [==============================] - 0s 2ms/step - loss: 2.5029\n",
            "Epoch 95/100\n",
            "219/219 [==============================] - 1s 3ms/step - loss: 2.4937\n",
            "Epoch 96/100\n",
            "219/219 [==============================] - 1s 2ms/step - loss: 2.4848\n",
            "Epoch 97/100\n",
            "219/219 [==============================] - 1s 3ms/step - loss: 2.4763\n",
            "Epoch 98/100\n",
            "219/219 [==============================] - 1s 5ms/step - loss: 2.4679\n",
            "Epoch 99/100\n",
            "219/219 [==============================] - 1s 3ms/step - loss: 2.4597\n",
            "Epoch 100/100\n",
            "219/219 [==============================] - 0s 2ms/step - loss: 2.4518\n"
          ]
        }
      ]
    },
    {
      "cell_type": "markdown",
      "source": [
        "### Comparing Predicted vs True Adjusted Close Value – LSTM"
      ],
      "metadata": {
        "id": "LeONU3AdvzA6"
      }
    },
    {
      "cell_type": "code",
      "source": [
        "y_pred= lstm.predict(X_test)\n",
        "plt.plot(y_test, label='True Value')\n",
        "plt.plot(y_pred, label='LSTM Value')\n",
        "plt.title('Prediction by LSTM')\n",
        "plt.xlabel('Time Scal')\n",
        "plt.ylabel('Scaled USD')\n",
        "plt.legend()\n",
        "plt.show()"
      ],
      "metadata": {
        "colab": {
          "base_uri": "https://localhost:8080/",
          "height": 489
        },
        "id": "YYrzGH6AvqOJ",
        "outputId": "57906260-58d7-47bb-a88c-e9533f8f6d4a"
      },
      "execution_count": 18,
      "outputs": [
        {
          "output_type": "stream",
          "name": "stdout",
          "text": [
            "6/6 [==============================] - 0s 3ms/step\n"
          ]
        },
        {
          "output_type": "display_data",
          "data": {
            "text/plain": [
              "<Figure size 640x480 with 1 Axes>"
            ],
            "image/png": "[encoded data removed]"
          },
          "metadata": {}
        }
      ]
    },
    {
      "cell_type": "code",
      "source": [],
      "metadata": {
        "id": "5boUtBX-wDHS"
      },
      "execution_count": null,
      "outputs": []
    }
  ]
}